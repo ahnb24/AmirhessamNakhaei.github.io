{
 "cells": [
  {
   "cell_type": "code",
   "execution_count": 9,
   "id": "dbeccfd4",
   "metadata": {},
   "outputs": [],
   "source": [
    "import pandas as pd\n",
    "file_name = \"Ahmad Nakhaei\"\n",
    "file_name = file_name.replace(\" \", \"%20\")\n",
    "url = f\"https://raw.githubusercontent.com/ahnb24/AmirhessamNakhaei.github.io/main/data/{file_name}.csv\"\n",
    "df = pd.read_csv(url)"
   ]
  },
  {
   "cell_type": "code",
   "execution_count": 6,
   "id": "73f0862a",
   "metadata": {},
   "outputs": [
    {
     "data": {
      "text/plain": [
       "'Mohammadreza%20Nakhaei'"
      ]
     },
     "execution_count": 6,
     "metadata": {},
     "output_type": "execute_result"
    }
   ],
   "source": [
    "file_name"
   ]
  },
  {
   "cell_type": "code",
   "execution_count": 3,
   "id": "bdc498c9",
   "metadata": {},
   "outputs": [
    {
     "name": "stdout",
     "output_type": "stream",
     "text": [
      "  GBP-IRR ratio       date date(shamsi)\n",
      "0       176,570   1/1/2020   1398/10/11\n",
      "1       401,230   1/1/2022   1400/10/11\n",
      "2       493,090   1/1/2023   1401/10/11\n",
      "3       338,620  1/10/2021   1399/10/21\n",
      "4       383,310  1/10/2022   1400/10/20\n",
      "<class 'pandas.core.frame.DataFrame'>\n",
      "RangeIndex: 1162 entries, 0 to 1161\n",
      "Data columns (total 3 columns):\n",
      " #   Column         Non-Null Count  Dtype \n",
      "---  ------         --------------  ----- \n",
      " 0   GBP-IRR ratio  1162 non-null   object\n",
      " 1   date           1162 non-null   object\n",
      " 2   date(shamsi)   1162 non-null   object\n",
      "dtypes: object(3)\n",
      "memory usage: 27.4+ KB\n",
      "None\n"
     ]
    }
   ],
   "source": [
    "import pandas as pd\n",
    "\n",
    "file_name = \"GBP-IRR.csv\"\n",
    "\n",
    "# Correct raw GitHub link\n",
    "url = f\"https://raw.githubusercontent.com/ahnb24/AmirhessamNakhaei.github.io/main/data/{file_name}\"\n",
    "\n",
    "df = pd.read_csv(url)\n",
    "\n",
    "print(df.head())\n",
    "print(df.info())\n"
   ]
  }
 ],
 "metadata": {
  "kernelspec": {
   "display_name": "Python 3",
   "language": "python",
   "name": "python3"
  },
  "language_info": {
   "codemirror_mode": {
    "name": "ipython",
    "version": 3
   },
   "file_extension": ".py",
   "mimetype": "text/x-python",
   "name": "python",
   "nbconvert_exporter": "python",
   "pygments_lexer": "ipython3",
   "version": "3.10.11"
  }
 },
 "nbformat": 4,
 "nbformat_minor": 5
}
